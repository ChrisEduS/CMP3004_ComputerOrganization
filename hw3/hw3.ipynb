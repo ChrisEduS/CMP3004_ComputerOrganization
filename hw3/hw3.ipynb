{
 "cells": [
  {
   "attachments": {},
   "cell_type": "markdown",
   "id": "a2665cc8",
   "metadata": {},
   "source": [
    "## CMP-3004\n",
    "## Computer Organization\n",
    "\n",
    "### Spring 2023"
   ]
  },
  {
   "attachments": {},
   "cell_type": "markdown",
   "id": "df038792",
   "metadata": {},
   "source": [
    "## Homework 3"
   ]
  },
  {
   "attachments": {},
   "cell_type": "markdown",
   "id": "d7a5493e",
   "metadata": {},
   "source": [
    "### 1. Use assembly to solve the following problems:\n",
    "- Obtain the 50th Fibonacci number\n",
    "- Find out if a given year is leap\n",
    "- Given an array of integers, calculate the average\n",
    "- Write a program to transform from Celsius to Fahrenheit and vice versa"
   ]
  },
  {
   "attachments": {},
   "cell_type": "markdown",
   "id": "885b8b41",
   "metadata": {},
   "source": [
    "1.1 Get the 50th Fibo number"
   ]
  },
  {
   "cell_type": "code",
   "execution_count": null,
   "id": "182fa4e8",
   "metadata": {
    "vscode": {
     "languageId": "plaintext"
    }
   },
   "outputs": [],
   "source": [
    ".data\n",
    "fib: .space 4\n",
    "\n",
    ".text\n",
    ".globl main\n",
    ".ent main\n",
    "\n",
    "main:\n",
    "    # Initialize variables\n",
    "    li $t0, 0   # n = 0\n",
    "    li $t1, 1   # n = 1\n",
    "    li $t2, 2   # counter = 2\n",
    "\n",
    "loop:\n",
    "    beq $t2, 50, exit    # check if counter == 50\n",
    "\n",
    "    # Calculate Fibonacci sequence\n",
    "    add $t3, $t0, $t1    # t3 = t0 + t1\n",
    "    sw $t3, fib          # store t3 in fib variable\n",
    "\n",
    "    # Shift variables\n",
    "    move $t0, $t1        # t0 = t1\n",
    "    move $t1, $t3        # t1 = t3\n",
    "\n",
    "    addi $t2, $t2, 1     # increment counter\n",
    "\n",
    "    j loop              # jump to loop\n",
    "\n",
    "exit:\n",
    "    # Print the 50th Fibonacci number\n",
    "    li $v0, 1           # system call code for printing an integer\n",
    "    lw $a0, fib         # load the Fibonacci number from memory\n",
    "    syscall\n",
    "\n",
    "    # Exit program\n",
    "    li $v0, 10          # system call code for exit\n",
    "    syscall\n",
    "\n",
    ".end main\n"
   ]
  },
  {
   "attachments": {},
   "cell_type": "markdown",
   "id": "2904e8f5",
   "metadata": {},
   "source": [
    "1.2 Find out if a given year is leap."
   ]
  },
  {
   "cell_type": "code",
   "execution_count": null,
   "id": "49e454c2",
   "metadata": {
    "vscode": {
     "languageId": "plaintext"
    }
   },
   "outputs": [],
   "source": [
    ".data\n",
    "year: .word 0\n",
    "\n",
    ".text\n",
    ".globl main\n",
    ".ent main\n",
    "\n",
    "main:\n",
    "    # Prompt user for input\n",
    "    li $v0, 4\n",
    "    la $a0, prompt\n",
    "    syscall\n",
    "\n",
    "    # Read year from user\n",
    "    li $v0, 5\n",
    "    syscall\n",
    "    move $t0, $v0   # Move user input to $t0\n",
    "\n",
    "    # Check if year is a leap year\n",
    "    beqz $t0, not_leap   # If year == 0, it is not a leap year\n",
    "    li $t1, 4           # Divide by 4\n",
    "    div $t0, $t1\n",
    "    mfhi $t2            # Remainder of division\n",
    "\n",
    "    bnez $t2, not_leap  # If remainder != 0, it is not a leap year\n",
    "\n",
    "    li $t1, 100         # Divide by 100\n",
    "    div $t0, $t1\n",
    "    mfhi $t2            # Remainder of division\n",
    "\n",
    "    bnez $t2, leap      # If remainder == 0, it is a leap year\n",
    "\n",
    "    li $t1, 400         # Divide by 400\n",
    "    div $t0, $t1\n",
    "    mfhi $t2            # Remainder of division\n",
    "\n",
    "    beqz $t2, leap      # If remainder != 0, it is a leap year\n",
    "\n",
    "not_leap:\n",
    "    # Print \"Not a leap year\"\n",
    "    li $v0, 4\n",
    "    la $a0, not_leap_msg\n",
    "    syscall\n",
    "    j exit\n",
    "\n",
    "leap:\n",
    "    # Print \"Leap year\"\n",
    "    li $v0, 4\n",
    "    la $a0, leap_msg\n",
    "    syscall\n",
    "\n",
    "exit:\n",
    "    # Exit program\n",
    "    li $v0, 10\n",
    "    syscall\n",
    "\n",
    ".data\n",
    "prompt: .asciiz \"Enter a year: \"\n",
    "leap_msg: .asciiz \"Leap year\\n\"\n",
    "not_leap_msg: .asciiz \"Not a leap year\\n\"\n",
    "\n",
    ".end main"
   ]
  },
  {
   "attachments": {},
   "cell_type": "markdown",
   "id": "8c27d4c4",
   "metadata": {},
   "source": [
    "1.3 Given an array of integers, calculate the average"
   ]
  },
  {
   "cell_type": "code",
   "execution_count": null,
   "id": "d397b715",
   "metadata": {
    "vscode": {
     "languageId": "plaintext"
    }
   },
   "outputs": [],
   "source": [
    ".data\n",
    "array: .word 10, 20, 30, 40, 50\n",
    "length: .word 5\n",
    "sum: .word 0\n",
    "average: .word 0\n",
    "\n",
    ".text\n",
    ".globl main\n",
    ".ent main\n",
    "\n",
    "main:\n",
    "    # Load array length and address\n",
    "    lw $t0, length\n",
    "    lw $t1, array\n",
    "\n",
    "    # Initialize sum to 0\n",
    "    li $t2, 0\n",
    "    sw $t2, sum\n",
    "\n",
    "    # Loop through array elements and calculate sum\n",
    "    li $t3, 0\n",
    "loop:\n",
    "    beq $t3, $t0, calculate_average    # Exit loop if index equals array length\n",
    "\n",
    "    # Load current element\n",
    "    lw $t4, 0($t1)\n",
    "\n",
    "    # Add element to sum\n",
    "    add $t2, $t2, $t4\n",
    "\n",
    "    # Increment index and array address\n",
    "    addi $t3, $t3, 1\n",
    "    addi $t1, $t1, 4\n",
    "\n",
    "    j loop                           # Jump to the beginning of the loop\n",
    "\n",
    "calculate_average:\n",
    "    # Calculate average\n",
    "    div $t2, $t0                       # Divide sum by array length\n",
    "    mflo $t5                           # Move quotient to $t5\n",
    "\n",
    "    # Store average\n",
    "    sw $t5, average\n",
    "\n",
    "    # Print average\n",
    "    li $v0, 1                           # System call code for printing an integer\n",
    "    lw $a0, average                     # Load the average from memory\n",
    "    syscall\n",
    "\n",
    "    # Exit program\n",
    "    li $v0, 10                          # System call code for exit\n",
    "    syscall\n",
    "\n",
    ".end main\n"
   ]
  },
  {
   "attachments": {},
   "cell_type": "markdown",
   "id": "8705da13",
   "metadata": {},
   "source": [
    "1.4. Write a program to transform from Celsius to Fahrenheit and vice versa"
   ]
  },
  {
   "cell_type": "code",
   "execution_count": null,
   "id": "c5854efe",
   "metadata": {
    "vscode": {
     "languageId": "plaintext"
    }
   },
   "outputs": [],
   "source": [
    ".data\n",
    "input: .word 0\n",
    "result: .word 0\n",
    "\n",
    ".text\n",
    ".globl main\n",
    ".ent main\n",
    "\n",
    "main:\n",
    "    # Prompt user for input\n",
    "    li $v0, 4\n",
    "    la $a0, prompt\n",
    "    syscall\n",
    "\n",
    "    # Read temperature from user\n",
    "    li $v0, 5\n",
    "    syscall\n",
    "    move $t0, $v0   # Move user input to $t0\n",
    "\n",
    "    # Prompt user for conversion direction\n",
    "    li $v0, 4\n",
    "    la $a0, convert_prompt\n",
    "    syscall\n",
    "\n",
    "    # Read conversion direction from user\n",
    "    li $v0, 5\n",
    "    syscall\n",
    "    move $t1, $v0   # Move user input to $t1\n",
    "\n",
    "    # Perform temperature conversion\n",
    "    beqz $t1, celsius_to_fahrenheit    # If t1 == 0, convert Celsius to Fahrenheit\n",
    "    beqz $t1, fahrenheit_to_celsius    # If t1 != 0, convert Fahrenheit to Celsius\n",
    "\n",
    "celsius_to_fahrenheit:\n",
    "    # Convert Celsius to Fahrenheit: F = C * 9/5 + 32\n",
    "    li $t2, 9           # Load constant 9\n",
    "    li $t3, 5           # Load constant 5\n",
    "    mul $t4, $t0, $t2   # Multiply Celsius value by 9\n",
    "    div $t4, $t4, $t3   # Divide result by 5\n",
    "    addi $t4, $t4, 32   # Add 32 to the result\n",
    "    sw $t4, result      # Store result in memory\n",
    "    j print_result\n",
    "\n",
    "fahrenheit_to_celsius:\n",
    "    # Convert Fahrenheit to Celsius: C = (F - 32) * 5/9\n",
    "    li $t2, 32          # Load constant 32\n",
    "    li $t3, 5           # Load constant 5\n",
    "    sub $t4, $t0, $t2   # Subtract 32 from Fahrenheit value\n",
    "    mul $t4, $t4, $t3   # Multiply result by 5\n",
    "    div $t4, $t4, $t3   # Divide result by 9\n",
    "    sw $t4, result      # Store result in memory\n",
    "\n",
    "print_result:\n",
    "    # Print the converted temperature\n",
    "    li $v0, 1           # System call code for printing an integer\n",
    "    lw $a0, result      # Load the converted temperature from memory\n",
    "    syscall\n",
    "\n",
    "    # Exit program\n",
    "    li $v0, 10          # System call code for exit\n",
    "    syscall\n",
    "\n",
    ".data\n",
    "prompt: .asciiz \"Enter a temperature value: \"\n",
    "convert_prompt: .asciiz \"Enter 0 to convert Celsius to Fahrenheit or 1 to convert Fahrenheit to Celsius: \"\n",
    "\n",
    ".end main"
   ]
  },
  {
   "attachments": {},
   "cell_type": "markdown",
   "id": "6d39def2",
   "metadata": {},
   "source": [
    "### 2. For the following memory space, what would it look like after executing the assembly code below:\n",
    "\n",
    "|Address|Contents|\n",
    "|-------|--------|\n",
    "|10     | 1      |\n",
    "|11     | 4      |\n",
    "|12     | 5      |\n",
    "|13     | 112    |\n",
    "|14     | 7      |\n",
    "\n",
    "```\n",
    "LOAD 14\n",
    "ADD (12)\n",
    "STORE 12\n",
    "```"
   ]
  },
  {
   "attachments": {},
   "cell_type": "markdown",
   "id": "008a6b7a",
   "metadata": {},
   "source": [
    "1. `LOAD 14`: esta instrucción carga el valor en la dirección de memoria 14 en un registro.\n",
    "    - Registro: `R1` = 7\n",
    "\n",
    "2. `ADD (12)`: esta instrucción suma el valor en la dirección de memoria 12 al valor previamente cargado.\n",
    "    - Registro: `R1` = 7 + 5 = 12\n",
    "\n",
    "3. `STORE 12`: esta instrucción almacena el resultado en la dirección de memoria 12.\n",
    "    - Memoria: [12] = 12\n",
    "\n",
    "Entonces, después de ejecutar el código ensamblador dado, la memoria se vería así:"
   ]
  },
  {
   "attachments": {},
   "cell_type": "markdown",
   "id": "7cf6d494",
   "metadata": {},
   "source": [
    "|Address|Contents|\n",
    "|-------|--------|\n",
    "|10     | 1      |\n",
    "|11     | 4      |\n",
    "|12     | 12      |\n",
    "|13     | 112    |\n",
    "|14     | 7      |"
   ]
  },
  {
   "attachments": {},
   "cell_type": "markdown",
   "id": "f7c2063e",
   "metadata": {},
   "source": [
    "### 3. Implement a function named `abs_diff` that calculates the absolute value of the difference of two inputs `a` and `b` (i.e., |a-b|), and get the assembly code output"
   ]
  },
  {
   "attachments": {},
   "cell_type": "markdown",
   "id": "918ae33e",
   "metadata": {},
   "source": [
    "Here is the function written in C++"
   ]
  },
  {
   "cell_type": "code",
   "execution_count": null,
   "id": "dc8d1d3a",
   "metadata": {
    "vscode": {
     "languageId": "plaintext"
    }
   },
   "outputs": [],
   "source": [
    "int abs_diff(int a, int b) {\n",
    "    int diff = a - b;\n",
    "    if (diff < 0) {\n",
    "        diff = -diff;\n",
    "    }\n",
    "    return diff;\n",
    "}"
   ]
  },
  {
   "attachments": {},
   "cell_type": "markdown",
   "id": "13976865",
   "metadata": {},
   "source": [
    "Here is the Assembly code output."
   ]
  },
  {
   "cell_type": "code",
   "execution_count": null,
   "id": "a7efeee9",
   "metadata": {
    "vscode": {
     "languageId": "plaintext"
    }
   },
   "outputs": [],
   "source": [
    "\t.file\t\"myfile.cpp\"\n",
    "\t.text\n",
    "\t.globl\t__Z8abs_diffii\n",
    "\t.def\t__Z8abs_diffii;\t.scl\t2;\t.type\t32;\t.endef\n",
    "__Z8abs_diffii:\n",
    "LFB0:\n",
    "\t.cfi_startproc\n",
    "\tpushl\t%ebp\n",
    "\t.cfi_def_cfa_offset 8\n",
    "\t.cfi_offset 5, -8\n",
    "\tmovl\t%esp, %ebp\n",
    "\t.cfi_def_cfa_register 5\n",
    "\tsubl\t$16, %esp\n",
    "\tmovl\t8(%ebp), %eax\n",
    "\tsubl\t12(%ebp), %eax\n",
    "\tmovl\t%eax, -4(%ebp)\n",
    "\tcmpl\t$0, -4(%ebp)\n",
    "\tjns\tL2\n",
    "\tnegl\t-4(%ebp)\n",
    "L2:\n",
    "\tmovl\t-4(%ebp), %eax\n",
    "\tleave\n",
    "\t.cfi_restore 5\n",
    "\t.cfi_def_cfa 4, 4\n",
    "\tret\n",
    "\t.cfi_endproc\n",
    "LFE0:\n",
    "\t.ident\t\"GCC: (MinGW.org GCC-6.3.0-1) 6.3.0\"\n"
   ]
  },
  {
   "attachments": {},
   "cell_type": "markdown",
   "id": "85a4f601",
   "metadata": {},
   "source": [
    "### 4. What are the differences among sequential access, direct access, and random access?"
   ]
  },
  {
   "attachments": {},
   "cell_type": "markdown",
   "id": "fbdab55c",
   "metadata": {},
   "source": [
    "1. Acceso Secuencial: Los datos se acceden de manera lineal, comenzando desde el principio de la memoria y avanzando hacia la ubicación deseada. Para llegar a un dato específico, el sistema debe recorrer todos los datos precedentes. Es similar a leer datos desde una cinta o un disco magnético. El acceso secuencial es relativamente más lento en comparación con el acceso directo o aleatorio, ya que requiere escanear los datos precedentes hasta llegar a la ubicación deseada.\n",
    "\n",
    "2. Acceso Directo: Se pueden acceder a los datos directamente desde cualquier ubicación de la memoria. A cada ubicación de memoria se le asigna una dirección única y los datos se pueden acceder especificando directamente la dirección deseada. Este método se utiliza comúnmente en la memoria de acceso aleatorio (RAM) y proporciona un acceso rápido a los datos. El acceso directo es más rápido que el acceso secuencial, ya que no requiere recorrer los datos precedentes.\n",
    "\n",
    "3. Acceso Aleatorio: El acceso aleatorio también permite acceder a los datos directamente desde cualquier ubicación de la memoria, similar al acceso directo. La diferencia clave es que el acceso aleatorio generalmente se refiere a la capacidad de acceder a los datos desde cualquier ubicación de la memoria con la misma cantidad de tiempo, independientemente de la ubicación física de los datos.\n"
   ]
  },
  {
   "attachments": {},
   "cell_type": "markdown",
   "id": "02d33e02",
   "metadata": {},
   "source": [
    "### 5. What common characteristics are shared by all RAID levels?"
   ]
  },
  {
   "attachments": {},
   "cell_type": "markdown",
   "id": "2aa2d4ba",
   "metadata": {},
   "source": [
    "1. División de Datos (Data Striping): Los niveles de RAID suelen utilizar la división de datos, que consiste en dividir los datos en bloques y distribuirlos en varios discos del conjunto. Esto permite operaciones de lectura y escritura paralelas, mejorando el rendimiento general.\n",
    "\n",
    "2. Tolerancia a Fallos: La mayoría de los niveles de RAID incorporan algún tipo de tolerancia a fallos para protegerse contra las fallas de los discos. Esto se logra mediante mecanismos de redundancia como la duplicación de discos (mirroring), paridad o una combinación de ambos. La redundancia asegura que los datos puedan reconstruirse incluso si uno o más discos fallan.\n",
    "\n",
    "3. Mejora de Rendimiento: Los niveles de RAID suelen ofrecer un mejor rendimiento en comparación con los sistemas de un solo disco. Al distribuir los datos en varios discos y permitir el acceso paralelo a los datos, RAID puede mejorar las velocidades de lectura y escritura, lo que resulta en tasas de transferencia de datos más rápidas.\n",
    "\n",
    "4. Administración de la Matriz: Los niveles de RAID requieren algún tipo de administración de la matriz, que implica controlar y monitorear los discos en el conjunto. Esto incluye tareas como la inicialización de discos, configuración, monitoreo de la salud de los discos y reconstrucción de datos en caso de falla de un disco.\n",
    "\n",
    "5. Integridad de los Datos: La mayoría de los niveles de RAID incorporan mecanismos para garantizar la integridad de los datos. Esto puede involucrar el uso de sumas de comprobación (checksums), verificación de paridad o códigos de corrección de errores (ECC) para detectar y corregir errores o inconsistencias en los datos."
   ]
  }
 ],
 "metadata": {
  "kernelspec": {
   "display_name": "Python 3",
   "language": "python",
   "name": "python3"
  },
  "language_info": {
   "codemirror_mode": {
    "name": "ipython",
    "version": 3
   },
   "file_extension": ".py",
   "mimetype": "text/x-python",
   "name": "python",
   "nbconvert_exporter": "python",
   "pygments_lexer": "ipython3",
   "version": "3.8.8"
  }
 },
 "nbformat": 4,
 "nbformat_minor": 5
}

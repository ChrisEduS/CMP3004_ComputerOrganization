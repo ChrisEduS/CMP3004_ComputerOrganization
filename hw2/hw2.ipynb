{
 "cells": [
  {
   "cell_type": "markdown",
   "id": "a2665cc8",
   "metadata": {},
   "source": [
    "## CMP-3004\n",
    "## Computer Organization\n",
    "\n",
    "### Spring 2023"
   ]
  },
  {
   "cell_type": "markdown",
   "id": "df038792",
   "metadata": {},
   "source": [
    "## Homework 2"
   ]
  },
  {
   "cell_type": "markdown",
   "id": "d7a5493e",
   "metadata": {},
   "source": [
    "### 1. List and briefly define the possible states that define an instruction execution."
   ]
  },
  {
   "attachments": {},
   "cell_type": "markdown",
   "id": "5804da44",
   "metadata": {},
   "source": [
    "FETCH: Aqui, nuestro procesador obtiene, desde la memoria, cierta instruccion y la guarda en el registro (de instrucciones);  dicha instruccion es mantenida en el registro hasta ser decodificada y ejecutada.\n",
    "\n",
    "DECODE: Aqui, la instrucción que ya se encuentra en el registro de instrucciones se decodifica código de operación y operandos para saber que operacion debe hacer.\n",
    "\n",
    "EVALUATE ADDRESS: Aqui, se calcula la dirección del o los operandos que se necesitan para llevar a cabo la instrucción, este cálculo depende del modo de direccionamiento especificado en la instrucción: directo, indirecto, inmediato, implicito, etc.\n",
    "\n",
    "FETCH OPERANDS: De manera analoga al FETCH, aqui, los operandos que se necesitan para ejecutar la instrucción se obtienen desde memoria y se cargan en los registros. Es importante mencionar que la dirección de los operandos se obtiene del estado anterior.\n",
    "\n",
    "EXECUTE: A partir de los operandos cargados en el estado anterior, el procesador realiza la operación especificada por sus respectivos codigos.\n",
    "\n",
    "STORE RESULT: Finalmente, aqui, el resultado de la ejecucion anterior se almacena en la memoria o en un registro, según la instrucción. Luego, el contador del programa se actualiza y apunta a la siguiente instrucción en la memoria.\n",
    "\n",
    "Una vez se llega al estado ultimo (STORE RESULT) esto se repite de manera ciclica. "
   ]
  },
  {
   "cell_type": "markdown",
   "id": "6d39def2",
   "metadata": {},
   "source": [
    "### 2. What types of transfers must a computer’s interconnection structure (e.g., bus) support?"
   ]
  },
  {
   "attachments": {},
   "cell_type": "markdown",
   "id": "fffe75e4",
   "metadata": {},
   "source": [
    "De acuerdo a las diapositivas de la clase, los tipos de transfers mas importantes son los internal buses, y estos son, principalmente:\n",
    "\n",
    "- Address Bus: lleva las señales de dirección emitidas desde el procesador a la memoria principal.\n",
    "\n",
    "- Data Bus: transporta bytes de instrucciones de la memoria al procesador y del procesador a la memoria para resultados o almacenamiento de datos.\n",
    "\n",
    "- Control Bus: señal emitida desde el procesador a la memoria u otros dispositivos para leer/escribir o realizar otra función.\n",
    "\n",
    "Investigando un poco, tambien se deben tener en cuenta otros tipos de transfers importantes para el correcto funcionamiento de la estructura de interconeccion de un computador, estos son:\n",
    "- Status transfer: Brinda informacion sobre la ejecucion de operaciones.\n",
    "\n",
    "- I/O transfers: similar a Address Bus, lleva señales desde dispositivos de entrada y salida (como teclado, mouse, pantallas, etc) hasta el CPU y viceversa.\n",
    "\n",
    "- Timing transfers: sincroniza todos los componentes.\n"
   ]
  },
  {
   "attachments": {},
   "cell_type": "markdown",
   "id": "f7c2063e",
   "metadata": {},
   "source": [
    "### 3. Consider a hypothetical 32-bit microprocessor having 32-bit instructions composed of two fields: the first byte contains the opcode and the remainder the immediate operand or an operand address.\n",
    "a. What is the maximum directly addressable memory capacity (in bytes)?\n",
    "\n",
    "Considerando que el primer byte contiene el opcode, lo que en bits seria igual a 8, restamos $32-8$ debido a que estamos tratando con direccionamiento directo.\\\n",
    "El resultado es 24, entonces ahora podemos utilizar la siguiente ecuacion:\\\n",
    "Si N = 24, entonces:\\\n",
    "$2^N=16.777.216$\n",
    "\n",
    "Entonces, la capacidad maxima de memoria direccionable directamente es: $16.777.216$ bytes\n",
    "\n",
    "b. Discuss the impact on the system speed if the microprocessor bus has:\n",
    "\n",
    "    1. 32-bit local address bus and a 16-bit local data bus, or\n",
    "\n",
    "En este caso, la velocidad del sistema sera limitada por el data bus. El address bus es de 32 bits, por ello la dirección entera se puede transferir a la memoria de una sola vez y hacer el decode; sin embargo, como el local data bus tiene solo 16 bits, requerirá 2 ciclos (accesos a la memoria) para obtener la instrucción de 32 bits.\n",
    "\n",
    "    2. 16-bit local address bus and a 16-bit local data bus.\n",
    "Siguiendo la misma logica que en el literal anterior, aqui, la velocidad del sistema sera limitada tanto por el data bus como el  address bus. Las transferencias de instrucciones y datos tomarían cuatro ciclos de bus cada una, dos para la dirección y dos para los datos.\n",
    "\n",
    "c. How many bits are needed for the program counter and the instruction register?\\\n",
    "Considerando la respuesta que se dio en el literal a, o sea que el opcode ocupa 8 bits: para el program counter se necesita 24 bits (direcciones de 24 bits), mientras que para el instruction register se necesitan 32 bits."
   ]
  },
  {
   "attachments": {},
   "cell_type": "markdown",
   "id": "85a4f601",
   "metadata": {},
   "source": [
    "### 4. A microprocessor is clocked at a rate of 5 GHz.\n",
    "a. How long is a clock cycle?\\\n",
    "Segun la instruccion, la frecuencia del procesador es de 5 mil millones de ciclos por segundo, por lo tanto cada ciclo puede ser calculado con la formula $ T = 1/frecuencia $ Entonces:\n",
    "\n",
    "$ 5.000.000.000 = 5^9$\\\n",
    "$ T = 1/5^9$\\\n",
    "$T =0.0000000002$\\\n",
    "$T=0.2$ nanosegundos\n",
    "\n",
    "b. What is the duration of a particular type of machine instruction consisting of three clock cycles?\n",
    "\n",
    "Dado que ya conocemos la duracion de un solo ciclo: 0.2 nanosegundos; para obtener este resultado basta con multiplicar este valor por 3.\\\n",
    "$3 *0.2=0.6$ nanosegundos"
   ]
  },
  {
   "attachments": {},
   "cell_type": "markdown",
   "id": "02d33e02",
   "metadata": {},
   "source": [
    "### 5. Suppose you wish to run a program P with $7.5 \\times 10^9$ instructions on a 5 GHz machine with a CPI of 0.8.\n",
    "a. What is the expected CPU time?\n",
    "\n",
    "Consideremos la siguiente formula, vista en clases:\n",
    "\n",
    "CPU time = Instruction count x CPI/Clock rate\n",
    "\n",
    "Instruction count = 7.5 x $10^9$\\\n",
    "CPI = 0.8\\\n",
    "Clock rate = 5 x $10^9$\n",
    "\n",
    "CPU time = 7.5 x $10^9$ * 0.8 / 5 x $10^9$\\\n",
    "CPU time = 1.2 segundos \n",
    "\n",
    "\n",
    "b. When you run P, it takes 3 seconds of wall clock time to complete. What is the percentage of the CPU time P received?\n",
    "\n",
    "Considerando la formula:\n",
    "\n",
    "CPU time percent. = (runtime P / wall clock time) * 100%\n",
    "\n",
    "Se tiene:\n",
    "\n",
    "CPU time percent. = (1.2 segundos / 3 segundos) * 100%\\\n",
    "CPU time percent. = 40%"
   ]
  },
  {
   "cell_type": "markdown",
   "id": "18c4b56e",
   "metadata": {},
   "source": [
    "### 6. A nonpipelined processor has a clock rate of 2.5 GHz and an average CPI (cycles per instruction) of 4. An upgrade to the processor introduces a five-stage pipeline. However, due to internal pipeline delays, such as latch delay, the clock rate of the new processor has to be reduced to 2 GHz. What is the speedup achieved for a typical program?"
   ]
  },
  {
   "attachments": {},
   "cell_type": "markdown",
   "id": "fe0a31ae",
   "metadata": {},
   "source": [
    "Para calcular los tiempos de ejecucion, se debe usar la siguiente ecuacion:\n",
    "\n",
    "Tiempo ej. = CPI * T\n",
    "\n",
    "Considerando que T, como en se definio en el ejercicio 4, es: $1/f$; entonces:\n",
    "\n",
    "Timpo ej. = CPI * (1/f)\n",
    "\n",
    "Ahora, tiempo antiguo:\\\n",
    "Tiempo ej. = $4 * (1/2.5*10^9)$ = 1.6 nanosegundos\n",
    "\n",
    "Siguiendo, tiempo nuevo:\\\n",
    "Tiempo ej. $1 * (1/2*10^9)$ = 0.5 nanosegundos\n",
    "\n",
    "Finalmente, la acelaracion lograda (speedup) para un programa se calcula de la siguiente manera:\\\n",
    "timpo antiguo / timpo nuevo = 1.6 nanos. / 0.5 nanos. = 3.20 nanosegundos"
   ]
  },
  {
   "attachments": {},
   "cell_type": "markdown",
   "id": "2dd39351",
   "metadata": {},
   "source": [
    "### Referencias\n",
    "Computer Organization and Design: The hardware/software interface, 5th edition,\n",
    "David A. Patterson y Jhon L. Hennessy, Morgan Kaufman, 2014.\\\n",
    "Computer Organization and Architecture: Design for Performance, 9th Edition, William\n",
    "Stallings, Pearson Education, 2013"
   ]
  }
 ],
 "metadata": {
  "kernelspec": {
   "display_name": "Python 3",
   "language": "python",
   "name": "python3"
  },
  "language_info": {
   "codemirror_mode": {
    "name": "ipython",
    "version": 3
   },
   "file_extension": ".py",
   "mimetype": "text/x-python",
   "name": "python",
   "nbconvert_exporter": "python",
   "pygments_lexer": "ipython3",
   "version": "3.8.8"
  }
 },
 "nbformat": 4,
 "nbformat_minor": 5
}
